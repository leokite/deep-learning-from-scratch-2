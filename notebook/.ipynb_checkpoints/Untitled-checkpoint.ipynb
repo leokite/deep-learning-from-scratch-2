{
 "cells": [
  {
   "cell_type": "markdown",
   "metadata": {},
   "source": [
    "# Chapter01 ニューラルネットワークの復習\n",
    "\n",
    "## ベクトルと行列\n",
    "\n",
    "- **ベクトル** : 大きさと向きを持つ量。数が一列に並んだ集まりとして表現でき、Pythonの実装では、1次元配列として扱うことができる。\n",
    "- **行列** : 2次元上に並んだ数の集まり。Pythonの実装では、2次元配列として扱うことができる。行列では、横方向の並びを`行(row)`、縦方向の並びを`列(column)`という。ベクトルや行列を拡張させて、N次元の数の集まりを`テンソル`と呼ぶ。\n",
    "- **ベクトルの内積** : 2つのベクトル間の対応する要素の積を足し合わせたもの。直感的には「2つのベクトルがどれだけ同じ方向を向いているか」を表す。2つのベクトルがまったく同じ方向を向いていれば、そのベクトルの内積は、1になる。一方、2つのベクトルが逆向きであれば、-1になる。"
   ]
  },
  {
   "cell_type": "markdown",
   "metadata": {},
   "source": [
    "## ニューラルネットワークの推論\n",
    "\n",
    "- ニューラルネットワークは、複数のニューロンをつなぎ合わせた構造で、`入力層`、`中間層(隠れ層)`、`出力層`からなる。\n",
    "- ニューロン同士のつながりには、`重み`が存在し、その「重み」と「ニューロンの値」が乗算され、それらの和が、次のニューロンへの入力となる。（正確には、さらに活性化関数を適用した値が、次のニューロンへの入力となる。）\n",
    "- また、このとき、前層のニューロンの値には影響を受けない「定数」`バイアス`も加算される。\n",
    "- 隣接するニューロン間のすべてに結びつきがある層を`全結合層`と呼ぶ。"
   ]
  },
  {
   "cell_type": "markdown",
   "metadata": {},
   "source": [
    "10個の適当な入力データに対して、全結合層による変換を行う実装は、以下の通り。"
   ]
  },
  {
   "cell_type": "code",
   "execution_count": 31,
   "metadata": {},
   "outputs": [],
   "source": [
    "import numpy as np\n",
    "W1 = np.random.randn(2, 4) # 重み\n",
    "b1 = np.random.randn(4)    # バイアス\n",
    "x = np.random.randn(10, 2) # 入力\n",
    "h = np.dot(x, W1) + b1     # 出力(隠れ層)"
   ]
  },
  {
   "cell_type": "markdown",
   "metadata": {},
   "source": [
    "x[0]は、0番目の入力データ、x[1]は、1番目の入力データ…というようになる。同様に、h[0]は、0番目のデータの隠れ層のニューロンを表す。（バイアスb1足し算は、ブロードキャストが働いており、b1の形状は、(4,)であるが、(10, 4)の形状になるよう自動で複製される。）"
   ]
  },
  {
   "cell_type": "markdown",
   "metadata": {},
   "source": [
    "### 活性化関数\n",
    "\n",
    "- `活性化関数`とは、入力信号の総和を出力信号に変換するための非線形な関数。線形な関数とは、h(x) = cx (cは定数)のように、出力が入力の定数倍になるような関数でまっすぐ1本の直線になる。非線形な活性化関数を用いることで、ニューラルネットワークの表現力を増すことができる。\n",
    "- 活性化関数には、`Sigmoid関数`, `ReLU(Rectified Linera Unit)関数`, `Softmax関数`などがある。\n",
    "- Sigmoid関数による変換を Sigmoidレイヤと呼ぶ。また、全結合層による変換は、幾何学の分野におけるアフィン変換に相当するため、Affineレイヤと呼ぶ。"
   ]
  },
  {
   "cell_type": "markdown",
   "metadata": {},
   "source": [
    "SigmoidレイヤとAffineレイヤの実装は以下の通り。"
   ]
  },
  {
   "cell_type": "code",
   "execution_count": 7,
   "metadata": {},
   "outputs": [],
   "source": [
    "class Sigmoid:\n",
    "    def __init__(self):\n",
    "        self.params = []\n",
    "        \n",
    "    def forward(self, x):\n",
    "        return 1 / (1 + np.exp(-x))"
   ]
  },
  {
   "cell_type": "code",
   "execution_count": 27,
   "metadata": {},
   "outputs": [],
   "source": [
    "class Affine:\n",
    "    def __init__(self, W, b):\n",
    "        self.params = [W, b] # この重みとバイアスが、学習時に随時更新される\n",
    "        \n",
    "    def forward(self, x):\n",
    "        W, b = self.params\n",
    "        out = np.dot(x, W) + b\n",
    "        return out"
   ]
  },
  {
   "cell_type": "markdown",
   "metadata": {},
   "source": [
    "入力 x が、 Affineレイヤ -> Sigmoidレイヤ -> Affineレイヤを経て、スコア s が出力されるようなニューラルネットワーク(TwoLayerNet)の実装は、以下の通り。"
   ]
  },
  {
   "cell_type": "code",
   "execution_count": 32,
   "metadata": {},
   "outputs": [],
   "source": [
    "class TwoLayerNet:\n",
    "    def __init__(self, input_size, hidden_size, output_size):\n",
    "        I, H, O = input_size, hidden_size, output_size\n",
    "        \n",
    "        # 重みとバイアスの初期化\n",
    "        W1 = np.random.randn(I, H)\n",
    "        b1 = np.random.randn(H)\n",
    "        W2 = np.random.randn(H, O)\n",
    "        b2 = np.random.randn(O)\n",
    "        \n",
    "        # レイヤの生成\n",
    "        self.layers = [\n",
    "            Affine(W1, b1),\n",
    "            Sigmoid(),\n",
    "            Affine(W2, b2)\n",
    "        ]\n",
    "        \n",
    "        # すべての重みをリストにまとめる\n",
    "        self.params = []\n",
    "        for layer in self.layers:\n",
    "            self.params += layer.params # リストの結合\n",
    "            \n",
    "    # 推論を行う処理    \n",
    "    def predict(self, x):\n",
    "        for layer in self.layers:\n",
    "            x = layer.forward(x)\n",
    "        return x"
   ]
  },
  {
   "cell_type": "markdown",
   "metadata": {},
   "source": [
    "このニューラルネットワークを利用した推論は、以下の通り。"
   ]
  },
  {
   "cell_type": "code",
   "execution_count": 14,
   "metadata": {},
   "outputs": [
    {
     "name": "stdout",
     "output_type": "stream",
     "text": [
      "[[ 1.39695546 -0.18731068 -1.93927086]\n",
      " [ 1.45537186  0.25938164 -2.05039602]\n",
      " [ 1.57279024  1.14715858 -2.23840584]\n",
      " [ 1.90956405  1.98136869 -2.23394786]\n",
      " [ 1.64850031  0.89828412 -2.07760771]\n",
      " [ 1.52271478  0.11854991 -1.92399851]\n",
      " [ 1.51861433  0.82916097 -2.19242971]\n",
      " [ 1.61234553  0.87556767 -2.11298464]\n",
      " [ 1.44680046 -0.37824227 -1.84660719]\n",
      " [ 1.4480952   0.16375904 -2.01781949]]\n"
     ]
    }
   ],
   "source": [
    "x = np.random.randn(10, 2)\n",
    "model = TwoLayerNet(2, 4, 3) # 入力層の数 2, 隠れ層の数 4, 出力層の数 3\n",
    "s = model.predict(x)\n",
    "print(s)"
   ]
  },
  {
   "cell_type": "markdown",
   "metadata": {},
   "source": [
    "## ニューラルネットワークの学習\n",
    "\n",
    "- `損失`とは、学習段階のある時点におけるニューラルネットワークの性能を示す指標。教師データとニューラルネットワークの予測結果をもとに、それがどれだけ悪いかを算出したもの。\n",
    "- 損失を求めるには、`損失関数`を使用する。損失関数には、`2乗和誤差` `交差エントロピー誤差` などがある。\n",
    "- 交差エントロピー誤差は、ニューラルネットワークが出力する各クラスの「確率」と「教師ラベル」から求める。（Softmax関数を用いると、関数の出力の各要素が0.0以上1.0以下の実装になる。そして、その要素をすべて足し合わせると1.0になる。したがって、Softmax関数の出力を「確率」として利用できる。）\n",
    "- ニューラルネットワークの学習の目標は、損失をできるだけ小さくするように「パラメータ」(重みやバイアス)を修正していくことである。（重みやバイアスの値を変化させることで、出力と教師ラベルの誤差をなくす。）\n",
    "- パラメータを修正するには、パラメータに関する「損失関数の勾配」を求めることである。\n",
    "- `勾配`とは、すべてのパラメータの偏微分をベクトルとしてまとめたものである。勾配が示す方向は、各場所において関数の値を最も減らす方向である。\n",
    "- 勾配を利用して関数の最小値（または、できるだけ小さい値）を徐々に探し続ける処理を`勾配法`という。\n",
    "- 勾配法を利用して最適なパラメータを求めることを`最適化`という。\n",
    "- 最適化の手法はいくつかある。`確率的勾配降下法`(Stochastic Gradient Descent)、`Momentum`、`AdaGrad`、`Adam`などがある。"
   ]
  },
  {
   "cell_type": "markdown",
   "metadata": {},
   "source": [
    "### 誤差逆伝播法\n",
    "\n",
    "- 誤差逆伝播法を利用する方法として「数式」による理解と「計算グラフ」による理解の2通りがある。計算グラフを用いると、計算過程を視覚的に把握できる。\n",
    "- 計算グラフの順方向の伝播を`順伝播`という。逆の伝播を`逆伝播`という。\n",
    "- 計算グラフのノードは局所的な計算によって構成されている。局所的な計算が全体の計算を構成する。\n",
    "- 計算グラフの順伝播は、通常の計算を行う。一方、計算グラフの逆伝播によって各ノードの微分を求めることができる。\n",
    "- `合成関数`とは複数の関数によって構成される関数のこと。\n",
    "- `連鎖律`とは合成関数の微分についての性質であり以下のように定義される。\n",
    "    - ある関数が合成関数で表される場合、その合成関数の微分は、合成関数を構成するそれぞれの関数の微分の積によって表すことができる。\n",
    "- ニューラルネットワークの構成要素をレイヤとして実装することで、連鎖律によって局所的な微分の計算を伝搬し効率的に勾配を求めることができる。（誤差逆伝搬法）\n",
    "- 加算ノードの逆伝播は、出力側の勾配を入力側ノードに出力するだけ。\n",
    "- 乗算ノードの逆伝播は、順伝播の際にxの信号であれば逆伝播ではy、順伝播の際にyの信号であれば逆伝播ではxと、ひっくり返した値を乗算して入力側ノードに出力する。\n",
    "- Sigmoidレイヤの逆伝播は、出力側から伝わってきた勾配にSigmoid関数の微分を y=(1-y) を乗算して、入力側のレイヤに伝播する。\n",
    "- Affineレイヤの逆伝播は、\n",
    "- Softmax関数と交差エントロピー誤差をあわせたSoftmax with Lossレイヤの逆伝播は、\n",
    "- 誤差逆伝播法を利用したニューラルネットワークの学習（パラメータの更新）は、以下の手順で行う。\n",
    "    - Step-1 (ミニバッチ）訓練データの中からランダムに複数のデータを選ぶ\n",
    "    - Step-2 (勾配の算出）誤差逆伝播法により、各重みパラメータに関する損失関数の勾配を求める\n",
    "    - Step-3（パラメータの更新）勾配を使って重みパラメータを更新する\n",
    "    - Step-4（繰り返す）Step-1, Step-2, Step-3 を必要な回数だけ繰り返す\n",
    "        "
   ]
  },
  {
   "cell_type": "markdown",
   "metadata": {},
   "source": [
    "各レイヤの実装は、以下の通り。"
   ]
  },
  {
   "cell_type": "code",
   "execution_count": 16,
   "metadata": {},
   "outputs": [],
   "source": [
    "class Sigmoid:\n",
    "    def __init__(self):\n",
    "        self.params, self.grads = [], []\n",
    "        self.out = None\n",
    "        \n",
    "    def forward(self, x):\n",
    "        out = 1 / (1 + np.exp(-x))\n",
    "        self.out = out\n",
    "        return out\n",
    "    \n",
    "    def backword(self, doubt):\n",
    "        dx = dout = (1.0 - self.out) * self.out\n",
    "        return dx"
   ]
  },
  {
   "cell_type": "code",
   "execution_count": 34,
   "metadata": {},
   "outputs": [],
   "source": [
    " class Affine:\n",
    "    def __init__(self, W, b):\n",
    "        self.params = [W, b]\n",
    "        self.grads = [np.zeros_like(W), np.zeros.like(b)]\n",
    "        self.x = None\n",
    "        \n",
    "    def forward(self, x):\n",
    "        W, b ==self.params\n",
    "        out = np.dot(x, W) + b\n",
    "        self.x = x\n",
    "        return out\n",
    "    \n",
    "    def backward(self, dout):\n",
    "        W, b = self.params\n",
    "        dx = np.dot(dout, W.T)\n",
    "        dw = np.dot(self.x.T, dout)\n",
    "        db = np.sum(dout, axis=0)\n",
    "        \n",
    "        self.grads[0][...] = dW\n",
    "        self.grads[1][...] = db\n",
    "        return dx"
   ]
  },
  {
   "cell_type": "code",
   "execution_count": 36,
   "metadata": {},
   "outputs": [],
   "source": [
    "class Softmax:\n",
    "    def __init__(self):\n",
    "        self.params, self.grads = [], []\n",
    "        self.out = None\n",
    "\n",
    "    def forward(self, x):\n",
    "        self.out = softmax(x)\n",
    "        return self.out\n",
    "    \n",
    "    def backward(self, dout):\n",
    "        dx = self.out * dout\n",
    "        sumdx = np.sum(dx, axis=1, keepdims=True)\n",
    "        dx -= self.out * sumdx\n",
    "        return dx\n",
    "    \n",
    "    def softmax(x):\n",
    "        if x.ndim == 2:\n",
    "            x = x - x.max(axis=1, keepdims=True)\n",
    "            x = np.exp(x)\n",
    "            x /= x.sum(axis=1, keepdims=True)\n",
    "        elif x.ndim == 1:\n",
    "            x = x - np.max(x)\n",
    "            x = np.exp(x) / np.sum(np.exp(x))\n",
    "            \n",
    "        return x"
   ]
  },
  {
   "cell_type": "code",
   "execution_count": 37,
   "metadata": {},
   "outputs": [],
   "source": [
    "class SoftmaxWithLoss:\n",
    "    def __init__(self):\n",
    "        self.params, self.grads = [], []\n",
    "        self.y = None # Softmaxの出力\n",
    "        self.t = None # 教師ラベル\n",
    "        \n",
    "    def forward(self, x, t):\n",
    "        self.t = t\n",
    "        self.y = softmax(x)\n",
    "        \n",
    "        # 教師ラベルがone-hotベクトルの場合、正解のインデックスに変換\n",
    "        if self.size == self.y.size:\n",
    "            self.t = self.t.argmax(axis=1)\n",
    "            \n",
    "        loss = cross_entropy_erro(self.y, self.t)\n",
    "        return loss\n",
    "    \n",
    "    def backward(self, dout=1):\n",
    "        batch_size = self.t.shape[0]\n",
    "        \n",
    "        dx = self.t.shape[0]\n",
    "        dx[np.arange(batch_size), self.t] -= 1\n",
    "        dx *= dout\n",
    "        dx = dx / batch_seize\n",
    "        \n",
    "        return dx"
   ]
  },
  {
   "cell_type": "markdown",
   "metadata": {},
   "source": [
    "TwoLayerNetの実装は、以下の通り。（誤算逆伝搬法を実施するための forward（順伝搬）と backward（逆伝搬）を実装している。）"
   ]
  },
  {
   "cell_type": "code",
   "execution_count": 33,
   "metadata": {},
   "outputs": [],
   "source": [
    "import sys\n",
    "sys.path.append('..')\n",
    "import numpy as np\n",
    "from common.layers import Affine, Sigmoid, SoftmaxWithLoss\n",
    "\n",
    "class TwoLayerNet:\n",
    "    def __init__(self, input_size, hidden_size, output_size):\n",
    "        I, H, O = input_size, hidden_size, output_size\n",
    "        \n",
    "        # 重みとバイアスの初期化\n",
    "        W1  = 0.01 * np.random.randn(I, H)\n",
    "        b1 = np.zeros(H)\n",
    "        W2 = 0.01 * np.random.randn(H, O)\n",
    "        b2 = np.zeros(O)\n",
    "        \n",
    "        # レイヤの生成\n",
    "        self.laywers = [\n",
    "            Affine(W1, b1),\n",
    "            Sigmoid(),\n",
    "            Affine(W2, b2)\n",
    "        ]\n",
    "        self.loss_layer = SoftmaxWithLoss()\n",
    "        \n",
    "        # すべての重みと勾配をリストにまとめる\n",
    "        self.params, self.grads = [], []\n",
    "        for layer in self.layers:\n",
    "            self.params += layer.params\n",
    "            self.grads += layer.grads\n",
    "            \n",
    "    def predict(self, x):\n",
    "        for layer in self.layers:\n",
    "            x = layer.forward(x)\n",
    "        return x\n",
    "    \n",
    "    def forward(self, x, t):\n",
    "        score = self.predict(x)\n",
    "        loss = self.loss_layer.forward(score, t)\n",
    "        return loss\n",
    "    \n",
    "    def backward(self, dout=1):\n",
    "        dout = self.loss_layer.backward(dout)\n",
    "        for layer in reversed(self.layers):\n",
    "            dout = layer.backward(dout)\n",
    "        return dout"
   ]
  },
  {
   "cell_type": "markdown",
   "metadata": {},
   "source": [
    "### ニューラルネットワークで問題を解く\n",
    "\n",
    "スパイラルデータセット"
   ]
  },
  {
   "cell_type": "code",
   "execution_count": 26,
   "metadata": {},
   "outputs": [
    {
     "name": "stdout",
     "output_type": "stream",
     "text": [
      "x (300, 2)\n",
      "t (300, 3)\n"
     ]
    },
    {
     "data": {
      "image/png": "[encoded data removed]",
      "text/plain": [
       "<matplotlib.figure.Figure at 0x106557588>"
      ]
     },
     "metadata": {},
     "output_type": "display_data"
    }
   ],
   "source": [
    "import sys\n",
    "sys.path.append('..')\n",
    "from dataset import spiral\n",
    "import matplotlib.pyplot as plt\n",
    "\n",
    "x, t = spiral.load_data()\n",
    "print('x', x.shape) # (300, 2)\n",
    "print('t', t.shape) # (300, 3)\n",
    "\n",
    "N = 100\n",
    "CLS_NUM = 3\n",
    "markers = ['o', 'x', '^']\n",
    "for i in range(CLS_NUM):\n",
    "    plt.scatter(x[i*N:(i+1)*N, 0], x[i*N:(i+1)*N, 1], s=40, marker=markers[i])\n",
    "plt.show()"
   ]
  },
  {
   "cell_type": "markdown",
   "metadata": {},
   "source": [
    "スパイラルデータセットを利用しTwoLayerNetによるニューラルネットワークの学習結果は、以下の通り。"
   ]
  },
  {
   "cell_type": "code",
   "execution_count": 28,
   "metadata": {},
   "outputs": [
    {
     "data": {
      "image/png": "[encoded data removed]",
      "text/plain": [
       "<matplotlib.figure.Figure at 0x106630128>"
      ]
     },
     "metadata": {},
     "output_type": "display_data"
    },
    {
     "data": {
      "text/plain": [
       "<function matplotlib.pyplot.show>"
      ]
     },
     "execution_count": 28,
     "metadata": {},
     "output_type": "execute_result"
    },
    {
     "data": {
      "image/png": "[encoded data removed]",
      "text/plain": [
       "<matplotlib.figure.Figure at 0x1579a04e0>"
      ]
     },
     "metadata": {},
     "output_type": "display_data"
    }
   ],
   "source": [
    "import sys\n",
    "sys.path.append('..')\n",
    "import numpy as np\n",
    "from common.optimizer import SGD\n",
    "from dataset import spiral\n",
    "import matplotlib.pyplot as plt\n",
    "from ch01.two_layer_net import TwoLayerNet\n",
    "\n",
    "# ハイパーパラメータの設定\n",
    "max_epoch = 300\n",
    "batch_size = 30\n",
    "hidden_size = 10\n",
    "learning_rate = 1.0\n",
    "\n",
    "x, t = spiral.load_data()\n",
    "model = TwoLayerNet(input_size=2, hidden_size=hidden_size, output_size=3)\n",
    "optimizer = SGD(lr=learning_rate)\n",
    "\n",
    "# 学習で使用する変数\n",
    "data_size = len(x)\n",
    "max_iters = data_size // batch_size\n",
    "total_loss = 0\n",
    "loss_count = 0\n",
    "loss_list = []\n",
    "\n",
    "for epoch in range(max_epoch):\n",
    "    # データのシャッフル\n",
    "    idx = np.random.permutation(data_size)\n",
    "    x = x[idx]\n",
    "    t = t[idx]\n",
    "    \n",
    "    for iters in range(max_iters):\n",
    "        batch_x = x[iters*batch_size:(iters+1)*batch_size]\n",
    "        batch_t = t[iters*batch_size:(iters+1)*batch_size]\n",
    "        \n",
    "        # 勾配を求め、パラメータを更新\n",
    "        loss = model.forward(batch_x, batch_t)\n",
    "        model.backward()\n",
    "        optimizer.update(model.params, model.grads)\n",
    "        \n",
    "        total_loss += loss\n",
    "        loss_count += 1\n",
    "        \n",
    "        # 定期的に学習経過を出力\n",
    "        if (iters+1) % 10 == 0:\n",
    "            avg_loss = total_loss / loss_count\n",
    "            # print('| epoch %d |  iter %d / %d | loss %.2f'\n",
    "            #      % (epoch +1, iters +1, max_iters, avg_loss))\n",
    "            loss_list.append(avg_loss)\n",
    "            total_loss, loss_count = 0, 0\n",
    "            \n",
    "# 学習結果をプロット\n",
    "plt.plot(np.arange(len(loss_list)), loss_list, label='train')\n",
    "plt.xlabel('iterations (x10)')\n",
    "plt.ylabel('loss')\n",
    "plt.show()\n",
    "\n",
    "# 境界領域のプロット\n",
    "h = 0.001\n",
    "x_min, x_max = x[:, 0].min() - .1, x[:, 0].max() + .1\n",
    "y_min, y_max = x[:, 1].min() - .1, x[:, 1].max() + .1\n",
    "xx, yy = np.meshgrid(np.arange(x_min, x_max, h), np.arange(y_min, y_max, h))\n",
    "X = np.c_[xx.ravel(), yy.ravel()]\n",
    "score = model.predict(X)\n",
    "predict_cls = np.argmax(score, axis=1)\n",
    "Z = predict_cls.reshape(xx.shape)\n",
    "plt.contourf(xx, yy, Z)\n",
    "plt.axis('off')\n",
    "\n",
    "# データ点のプロット\n",
    "x, t = spiral.load_data()\n",
    "N = 100\n",
    "CLS_NUM = 3\n",
    "markers = ['o', 'x', '^']\n",
    "for i in range(CLS_NUM):\n",
    "    plt.scatter(x[i*N:(i+1)*N, 0], x[i*N:(i+1)*N, 1], s=40, marker=markers[i])\n",
    "plt.show"
   ]
  }
 ],
 "metadata": {
  "kernelspec": {
   "display_name": "Python 3",
   "language": "python",
   "name": "python3"
  },
  "language_info": {
   "codemirror_mode": {
    "name": "ipython",
    "version": 3
   },
   "file_extension": ".py",
   "mimetype": "text/x-python",
   "name": "python",
   "nbconvert_exporter": "python",
   "pygments_lexer": "ipython3",
   "version": "3.6.4"
  }
 },
 "nbformat": 4,
 "nbformat_minor": 2
}
